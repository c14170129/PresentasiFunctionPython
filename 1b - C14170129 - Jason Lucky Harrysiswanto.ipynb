{
  "nbformat": 4,
  "nbformat_minor": 0,
  "metadata": {
    "colab": {
      "name": "Untuk Deep Learning",
      "provenance": []
    },
    "kernelspec": {
      "name": "python3",
      "display_name": "Python 3"
    }
  },
  "cells": [
    {
      "cell_type": "markdown",
      "metadata": {
        "id": "ZI7SAEVS_Hd4"
      },
      "source": [
        "# Cara Mendeklarasi Function\n"
      ]
    },
    {
      "cell_type": "markdown",
      "metadata": {
        "id": "6pao96sC__E_"
      },
      "source": [
        "Basic Function"
      ]
    },
    {
      "cell_type": "code",
      "metadata": {
        "colab": {
          "base_uri": "https://localhost:8080/"
        },
        "id": "KDSW2nPo5Dh5",
        "outputId": "8984c55b-cd3e-4392-cada-60798b53f8a3"
      },
      "source": [
        "def something():\n",
        "  print(\"Hello\")\n",
        "\n",
        "something()"
      ],
      "execution_count": null,
      "outputs": [
        {
          "output_type": "stream",
          "text": [
            "Hello\n"
          ],
          "name": "stdout"
        }
      ]
    },
    {
      "cell_type": "markdown",
      "metadata": {
        "id": "qR0Hyls7ABkJ"
      },
      "source": [
        "Function dengan return value"
      ]
    },
    {
      "cell_type": "code",
      "metadata": {
        "colab": {
          "base_uri": "https://localhost:8080/"
        },
        "id": "dn3hOWNI9Rn6",
        "outputId": "b53f10f0-2d38-4f17-e6a5-84e420fa1b6f"
      },
      "source": [
        "def returnSomething():\n",
        "  return 123\n",
        "\n",
        "a = returnSomething()\n",
        "print(a)"
      ],
      "execution_count": null,
      "outputs": [
        {
          "output_type": "stream",
          "text": [
            "123\n"
          ],
          "name": "stdout"
        }
      ]
    },
    {
      "cell_type": "markdown",
      "metadata": {
        "id": "HfO8ZXzHAHel"
      },
      "source": [
        "Return value bisa macam - macam"
      ]
    },
    {
      "cell_type": "code",
      "metadata": {
        "colab": {
          "base_uri": "https://localhost:8080/"
        },
        "id": "Qtc-RiaB_wb9",
        "outputId": "0a2be8b4-45e4-4282-8dea-4d1277066fc3"
      },
      "source": [
        "def returnList():\n",
        "  return [1, 2, 3, 4, 5]\n",
        "\n",
        "a = returnList()\n",
        "print(a)"
      ],
      "execution_count": null,
      "outputs": [
        {
          "output_type": "stream",
          "text": [
            "[1, 2, 3, 4, 5]\n"
          ],
          "name": "stdout"
        }
      ]
    },
    {
      "cell_type": "markdown",
      "metadata": {
        "id": "yhLPRsn_Aw4T"
      },
      "source": [
        "# Parameter Pada Function"
      ]
    },
    {
      "cell_type": "markdown",
      "metadata": {
        "id": "SgsF1uuAHJnB"
      },
      "source": [
        "Satu Parameter"
      ]
    },
    {
      "cell_type": "code",
      "metadata": {
        "colab": {
          "base_uri": "https://localhost:8080/"
        },
        "id": "50FlEjaQAQyX",
        "outputId": "d7deaabd-83c8-4a34-930b-ed03e9c0d444"
      },
      "source": [
        "def withParameter(x):\n",
        "  for i in range(x):\n",
        "    print(\"Ho\", end=\" \")\n",
        "\n",
        "withParameter(5)"
      ],
      "execution_count": null,
      "outputs": [
        {
          "output_type": "stream",
          "text": [
            "Ho Ho Ho Ho Ho "
          ],
          "name": "stdout"
        }
      ]
    },
    {
      "cell_type": "code",
      "metadata": {
        "id": "wm0lkq3gGiP-",
        "colab": {
          "base_uri": "https://localhost:8080/"
        },
        "outputId": "96a29249-70e8-40ef-e6f5-8074ea9f179d"
      },
      "source": [
        "# Bisa melakukan operasi\n",
        "def operateParameter(x):\n",
        "  return x + 10\n",
        "\n",
        "a = operateParameter(7)\n",
        "print(a)"
      ],
      "execution_count": null,
      "outputs": [
        {
          "output_type": "stream",
          "text": [
            "17\n"
          ],
          "name": "stdout"
        }
      ]
    },
    {
      "cell_type": "markdown",
      "metadata": {
        "id": "qsMCPvMqIbND"
      },
      "source": [
        "Lebih dari satu parameter"
      ]
    },
    {
      "cell_type": "code",
      "metadata": {
        "colab": {
          "base_uri": "https://localhost:8080/"
        },
        "id": "PEc4O2z7IFdw",
        "outputId": "81eb05f6-4255-4ec6-f7ab-b15bc8635c55"
      },
      "source": [
        "def multiParameters(x, y):\n",
        "  print(x+y)\n",
        "\n",
        "multiParameters(10, 17)"
      ],
      "execution_count": null,
      "outputs": [
        {
          "output_type": "stream",
          "text": [
            "27\n"
          ],
          "name": "stdout"
        }
      ]
    },
    {
      "cell_type": "markdown",
      "metadata": {
        "id": "lYW4X2idJAXt"
      },
      "source": [
        "Default values"
      ]
    },
    {
      "cell_type": "code",
      "metadata": {
        "id": "BkioEiI2IquJ",
        "colab": {
          "base_uri": "https://localhost:8080/"
        },
        "outputId": "04397481-cd21-4550-c016-1c4d10995527"
      },
      "source": [
        "# Terbagi menjadi 2: Mandatory value, Optional value\n",
        "def defaultValues(x = 10, y = \"Ya\"):\n",
        "  for i in range(x):\n",
        "    print(y, end=\" \")\n",
        "  print()\n",
        "\n",
        "defaultValues()\n",
        "defaultValues(5)\n",
        "defaultValues(10, [\"Blah\", \"Yo\"])\n",
        "defaultValues(10, 20)"
      ],
      "execution_count": null,
      "outputs": [
        {
          "output_type": "stream",
          "text": [
            "Ya Ya Ya Ya Ya Ya Ya Ya Ya Ya \n",
            "Ya Ya Ya Ya Ya \n",
            "['Blah', 'Yo'] ['Blah', 'Yo'] ['Blah', 'Yo'] ['Blah', 'Yo'] ['Blah', 'Yo'] ['Blah', 'Yo'] ['Blah', 'Yo'] ['Blah', 'Yo'] ['Blah', 'Yo'] ['Blah', 'Yo'] \n",
            "20 20 20 20 20 20 20 20 20 20 \n"
          ],
          "name": "stdout"
        }
      ]
    },
    {
      "cell_type": "markdown",
      "metadata": {
        "id": "ysr_p4SxO8Ax"
      },
      "source": [
        "# Keyword Arguments (\\*args and \\**kwargs)"
      ]
    },
    {
      "cell_type": "code",
      "metadata": {
        "colab": {
          "base_uri": "https://localhost:8080/"
        },
        "id": "B6Jo5tPAKC8n",
        "outputId": "483cb0af-0bf2-4d4e-9fc3-e31df69c8d67"
      },
      "source": [
        "def argsExample(*attt): # does not have to be args, call it anything you want\n",
        "  result = 0\n",
        "  for i in attt:\n",
        "    result += i\n",
        "  return result\n",
        "\n",
        "print(argsExample(10, 20, 30))"
      ],
      "execution_count": null,
      "outputs": [
        {
          "output_type": "stream",
          "text": [
            "10\n",
            "60\n"
          ],
          "name": "stdout"
        }
      ]
    },
    {
      "cell_type": "code",
      "metadata": {
        "colab": {
          "base_uri": "https://localhost:8080/"
        },
        "id": "CqJtsL3YNVZM",
        "outputId": "6c50987c-15a5-4bd8-8076-04af46f7f1ec"
      },
      "source": [
        "def kwargsExample(**kwargs): # same with args, does not have to be kwargs\n",
        "  result = \"\"\n",
        "  for i in kwargs.values():\n",
        "    result += i\n",
        "  print(kwargs[\"b\"])\n",
        "  return result\n",
        "\n",
        "print(kwargsExample(a=\"a \", b=\"Ka \", c=\"Sa \", d=\"Ta \", e=\"Na\"))"
      ],
      "execution_count": null,
      "outputs": [
        {
          "output_type": "stream",
          "text": [
            "Ka \n",
            "a Ka Sa Ta Na\n"
          ],
          "name": "stdout"
        }
      ]
    },
    {
      "cell_type": "code",
      "metadata": {
        "id": "NRsX3StyUKMC"
      },
      "source": [
        ""
      ],
      "execution_count": null,
      "outputs": []
    }
  ]
}