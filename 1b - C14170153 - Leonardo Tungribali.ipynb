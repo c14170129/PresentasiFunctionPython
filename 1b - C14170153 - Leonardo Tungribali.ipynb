{
  "nbformat": 4,
  "nbformat_minor": 0,
  "metadata": {
    "colab": {
      "name": "Copy of Untuk Deep Learning",
      "provenance": []
    },
    "kernelspec": {
      "name": "python3",
      "display_name": "Python 3"
    }
  },
  "cells": [
    {
      "cell_type": "markdown",
      "metadata": {
        "id": "ZI7SAEVS_Hd4"
      },
      "source": [
        "# Cara Mendeklarasi Function\n"
      ]
    },
    {
      "cell_type": "markdown",
      "metadata": {
        "id": "6pao96sC__E_"
      },
      "source": [
        "Basic Function"
      ]
    },
    {
      "cell_type": "code",
      "metadata": {
        "colab": {
          "base_uri": "https://localhost:8080/"
        },
        "id": "KDSW2nPo5Dh5",
        "outputId": "8984c55b-cd3e-4392-cada-60798b53f8a3"
      },
      "source": [
        "def something():\n",
        "  print(\"Hello\")\n",
        "\n",
        "something()"
      ],
      "execution_count": null,
      "outputs": [
        {
          "output_type": "stream",
          "text": [
            "Hello\n"
          ],
          "name": "stdout"
        }
      ]
    },
    {
      "cell_type": "markdown",
      "metadata": {
        "id": "qR0Hyls7ABkJ"
      },
      "source": [
        "Function dengan return value"
      ]
    },
    {
      "cell_type": "code",
      "metadata": {
        "colab": {
          "base_uri": "https://localhost:8080/"
        },
        "id": "dn3hOWNI9Rn6",
        "outputId": "b53f10f0-2d38-4f17-e6a5-84e420fa1b6f"
      },
      "source": [
        "# Function dengan return value\n",
        "def returnSomething():\n",
        "  return 123\n",
        "\n",
        "a = returnSomething()\n",
        "print(a)"
      ],
      "execution_count": null,
      "outputs": [
        {
          "output_type": "stream",
          "text": [
            "123\n"
          ],
          "name": "stdout"
        }
      ]
    },
    {
      "cell_type": "markdown",
      "metadata": {
        "id": "HfO8ZXzHAHel"
      },
      "source": [
        "Return value bisa macam - macam"
      ]
    },
    {
      "cell_type": "code",
      "metadata": {
        "colab": {
          "base_uri": "https://localhost:8080/"
        },
        "id": "Qtc-RiaB_wb9",
        "outputId": "0a2be8b4-45e4-4282-8dea-4d1277066fc3"
      },
      "source": [
        "# Return value bisa macam - macam\n",
        "def returnList():\n",
        "  return [1, 2, 3, 4, 5]\n",
        "\n",
        "a = returnList()\n",
        "print(a)"
      ],
      "execution_count": null,
      "outputs": [
        {
          "output_type": "stream",
          "text": [
            "[1, 2, 3, 4, 5]\n"
          ],
          "name": "stdout"
        }
      ]
    },
    {
      "cell_type": "markdown",
      "metadata": {
        "id": "yhLPRsn_Aw4T"
      },
      "source": [
        "# Parameter Pada Function"
      ]
    },
    {
      "cell_type": "markdown",
      "metadata": {
        "id": "SgsF1uuAHJnB"
      },
      "source": [
        "# Satu Parameter"
      ]
    },
    {
      "cell_type": "code",
      "metadata": {
        "colab": {
          "base_uri": "https://localhost:8080/"
        },
        "id": "50FlEjaQAQyX",
        "outputId": "897206b5-13b5-43c7-ead9-6e914197454b"
      },
      "source": [
        "def withParameter(x):\n",
        "  for i in range(x):\n",
        "    print(\"Ho\", end=\" \")\n",
        "\n",
        "withParameter(5)"
      ],
      "execution_count": null,
      "outputs": [
        {
          "output_type": "stream",
          "text": [
            "Ho Ho Ho Ho Ho "
          ],
          "name": "stdout"
        }
      ]
    },
    {
      "cell_type": "code",
      "metadata": {
        "id": "wm0lkq3gGiP-",
        "colab": {
          "base_uri": "https://localhost:8080/"
        },
        "outputId": "699c0f20-c10b-4fdb-85c0-b56a3f0d6c9d"
      },
      "source": [
        "def addParam(x,y):\n",
        "  hasil = x+y\n",
        "  return hasil\n",
        "\n",
        "a = addParam(3,2)\n",
        "print(a)"
      ],
      "execution_count": null,
      "outputs": [
        {
          "output_type": "stream",
          "text": [
            "5\n"
          ],
          "name": "stdout"
        }
      ]
    }
  ]
}